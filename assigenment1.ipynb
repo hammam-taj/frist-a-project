{
 "cells": [
  {
   "cell_type": "code",
   "execution_count": 11,
   "metadata": {},
   "outputs": [
    {
     "name": "stdout",
     "output_type": "stream",
     "text": [
      "invalid email\n",
      "invalid email\n",
      "invalid email\n",
      "invalid email\n",
      "invalid email\n",
      "invalid email\n",
      "invalid email\n",
      "valid email\n",
      "invalid email\n",
      "invalid email\n",
      "invalid email\n",
      "invalid email\n",
      "invalid email\n",
      "validemail\n",
      "invalid email\n",
      "invalid email\n",
      "invalid email\n"
     ]
    }
   ],
   "source": [
    "email=\"Amit_ml@gmail.edu\"\n",
    "for x in email:\n",
    "    \n",
    "    if x==\"@\":\n",
    "        print(\"valid email\")\n",
    "    elif x==\".\":\n",
    "        print(\"validemail\")    \n",
    "    else:\n",
    "        print(\"invalid email\")\n",
    "            \n",
    "    "
   ]
  },
  {
   "cell_type": "code",
   "execution_count": 26,
   "metadata": {},
   "outputs": [
    {
     "name": "stdout",
     "output_type": "stream",
     "text": [
      "valid email\n"
     ]
    }
   ],
   "source": [
    "#Input Validation: Check if the input string contains exactly one \"@\" symbol and at least one \".\" after the \"@\" symbol. If it's not a valid email, return \"Invalid email\".\n",
    "email=\"Amit_ml@gmail.edu\"\n",
    "at_count=0\n",
    "dotafter_at=False\n",
    "for i in range(len(email)):\n",
    "    if email[i]==\"@\":\n",
    "        at_count+=1\n",
    "        for j in range(len(email)):\n",
    "            if email[j]==\".\":\n",
    "                dotafter_at=True\n",
    "if at_count ==1 and dotafter_at:\n",
    "    print(\"valid email\")\n",
    "else:\n",
    "    print(\"invalid email\")\n",
    "\n"
   ]
  },
  {
   "cell_type": "code",
   "execution_count": 27,
   "metadata": {},
   "outputs": [
    {
     "ename": "TypeError",
     "evalue": "string indices must be integers, not 'str'",
     "output_type": "error",
     "traceback": [
      "\u001b[31m---------------------------------------------------------------------------\u001b[39m",
      "\u001b[31mTypeError\u001b[39m                                 Traceback (most recent call last)",
      "\u001b[36mCell\u001b[39m\u001b[36m \u001b[39m\u001b[32mIn[27]\u001b[39m\u001b[32m, line 5\u001b[39m\n\u001b[32m      3\u001b[39m dotafter_at=\u001b[38;5;28;01mFalse\u001b[39;00m\n\u001b[32m      4\u001b[39m \u001b[38;5;28;01mfor\u001b[39;00m i \u001b[38;5;129;01min\u001b[39;00m email:\n\u001b[32m----> \u001b[39m\u001b[32m5\u001b[39m     \u001b[38;5;28;01mif\u001b[39;00m \u001b[43memail\u001b[49m\u001b[43m[\u001b[49m\u001b[43mi\u001b[49m\u001b[43m]\u001b[49m==\u001b[33m\"\u001b[39m\u001b[33m@\u001b[39m\u001b[33m\"\u001b[39m:\n\u001b[32m      6\u001b[39m         at_count+=\u001b[32m1\u001b[39m\n\u001b[32m      7\u001b[39m         \u001b[38;5;28;01mfor\u001b[39;00m j \u001b[38;5;129;01min\u001b[39;00m email:\n",
      "\u001b[31mTypeError\u001b[39m: string indices must be integers, not 'str'"
     ]
    }
   ],
   "source": [
    "email=\"Amit_ml@gmail.edu\"\n",
    "at_count=0\n",
    "dotafter_at=False\n",
    "for i in email:\n",
    "    if email[i]==\"@\":\n",
    "        at_count+=1\n",
    "        for j in email:\n",
    "            if email[j]==\".\":\n",
    "                dotafter_at=True\n",
    "if at_count ==1 and dotafter_at:\n",
    "    print(\"valid email\")\n",
    "else:\n",
    "    print(\"invalid email\")"
   ]
  },
  {
   "cell_type": "code",
   "execution_count": null,
   "metadata": {},
   "outputs": [
    {
     "name": "stdout",
     "output_type": "stream",
     "text": [
      "Amit_ml\n"
     ]
    }
   ],
   "source": [
    "#Extract Username: Extract and return the part of the email before the \"@\" symbol.\n",
    "email=\"Amit_ml@gmail.edu\"\n",
    "username=\"\"\n",
    "\n",
    "for i in email:\n",
    "    if i!=\"@\":\n",
    "        username+=i\n",
    "    else:\n",
    "       print(username)\n",
    "\n",
    "    "
   ]
  },
  {
   "cell_type": "code",
   "execution_count": null,
   "metadata": {},
   "outputs": [
    {
     "name": "stdout",
     "output_type": "stream",
     "text": [
      "Domain: gmail\n"
     ]
    }
   ],
   "source": [
    "#Extract Domain: Extract and return the domain (the part between \"@\" and the last \".\").\n",
    "email = \"Amit_ml@gmail.edu\"\n",
    "\n",
    "# Find the index of \"@\" and last \".\"\n",
    "at_index = -1\n",
    "dot_index = -1\n",
    "\n",
    "# Loop to find \"@\" and the last \".\"\n",
    "for i in range(len(email)):\n",
    "    if email[i] == \"@\":\n",
    "        at_index = i\n",
    "    if email[i] == \".\":\n",
    "        dot_index = i  # Updates to the last dot position\n",
    "\n",
    "# Extract and print the domain\n",
    "if at_index != -1 and dot_index != -1 and at_index < dot_index:\n",
    "    domain = email[at_index + 1 : dot_index]  # Extract domain part\n",
    "    print(\"Domain:\", domain)\n",
    "else:\n",
    "    print(\"Invalid email\")\n"
   ]
  },
  {
   "cell_type": "code",
   "execution_count": 51,
   "metadata": {},
   "outputs": [
    {
     "name": "stdout",
     "output_type": "stream",
     "text": [
      "educational domain\n"
     ]
    }
   ],
   "source": [
    "#Check for Domain Ending: Check if the email ends with \".com\". If it does, return \"Commercial Domain\". If it ends with \".edu\", return \"Educational Domain\". Otherwise, return \"Other Domain\".\n",
    "email = \"Amit_ml@gmail.edu\"\n",
    "dot_index=0\n",
    "\n",
    "\n",
    "for v in range(len(email)):\n",
    "    if email[v] == \".\":\n",
    "        dot_index=v\n",
    "\n",
    "email_ended= email[dot_index :]\n",
    "if email_ended== \".com\":\n",
    "    print(\"comercial domain\")\n",
    "elif email_ended==\".edu\":\n",
    "    print(\"educational domain\")\n",
    "else:\n",
    "    print(\"other domain\")\n",
    "\n",
    "       \n"
   ]
  },
  {
   "cell_type": "code",
   "execution_count": null,
   "metadata": {},
   "outputs": [
    {
     "name": "stdout",
     "output_type": "stream",
     "text": [
      "Decoded Message: Welcom EPGTQ\n"
     ]
    }
   ],
   "source": [
    "#Encoded Message: ###!!@mocleW EPGTQ!!!6789\n",
    "#Extract the core part of the message: \"mocleW EPGTQ\".\n",
    "encode_message=\"###!!@mocleW EPGTQ!!!6789\"\n",
    "decode_message=\"\"\n",
    "at_index=0\n",
    "exclamation_mark_index=0\n",
    "for x in range(len(encode_message)):\n",
    "    if encode_message[x]==\"@\":\n",
    "        at_index=x\n",
    "        for j in range(len(encode_message)):\n",
    "            if encode_message[j]==\"!\":\n",
    "                exclamation_mark_index=j\n",
    "main_message=encode_message[at_index+1 :exclamation_mark_index-2]\n",
    "words=main_message.split()\n",
    "if len(words) > 0:  \n",
    "    first_word = words[0]  # Extract the first word ('mocleW')\n",
    "    reversed_first_word = first_word[::-1]  # Reverse it to get 'Welcome'\n",
    "    words[0] = reversed_first_word  # Replace the original first word\n",
    "\n",
    "decoded_message = \" \".join(words)  \n",
    "\n",
    "print(\"Decoded Message:\", decoded_message)\n",
    "\n",
    "                \n",
    "                \n",
    "        "
   ]
  },
  {
   "cell_type": "code",
   "execution_count": null,
   "metadata": {},
   "outputs": [
    {
     "name": "stdout",
     "output_type": "stream",
     "text": [
      "String PLEU\n"
     ]
    }
   ],
   "source": [
    "#Encoded Message:\n",
    "# Extract the core part of the message: \"gnirtS PLIO\".\n",
    "message=\"&&&**$gnirtS PLIO!!@1234\"\n",
    "dolar_index=0\n",
    "exclamation_mark_index=0\n",
    "core_part=\"\"\n",
    "for x in range(len(message)):\n",
    "    if message[x]==\"$\":\n",
    "        dolar_index=x\n",
    "        break  # Stop once \"@\" is found\n",
    "for j in range(len(message)):\n",
    "    if message[j]==\"!\":\n",
    "        exclamation_mark_index=j\n",
    "        break  # Stop at first \"!\"\n",
    "core_part=message[dolar_index+1:exclamation_mark_index]\n",
    "\n",
    "        \n",
    "#Reverse the first word: \"gnirtS\" becomes \"String\n",
    "split_message=core_part.split()\n",
    "first_word= split_message[0]\n",
    "reverse_first_word=first_word[::-1]\n",
    "split_message[0]=reverse_first_word\n",
    "secound_word=split_message[1]\n",
    "list_a=secound_word.split()\n",
    "list_a=[x.replace(\"I\",\"E\").replace(\"O\",\"U\") for x in list_a]\n",
    "secound_word=\"\".join(list_a)\n",
    "split_message[1]=secound_word\n",
    "core_part=\" \".join(split_message)\n",
    "print(core_part)"
   ]
  },
  {
   "cell_type": "code",
   "execution_count": 60,
   "metadata": {},
   "outputs": [
    {
     "ename": "NameError",
     "evalue": "name 'PLIO1' is not defined",
     "output_type": "error",
     "traceback": [
      "\u001b[31m---------------------------------------------------------------------------\u001b[39m",
      "\u001b[31mNameError\u001b[39m                                 Traceback (most recent call last)",
      "\u001b[36mCell\u001b[39m\u001b[36m \u001b[39m\u001b[32mIn[67]\u001b[39m\u001b[32m, line 29\u001b[39m\n\u001b[32m     26\u001b[39m split_message[\u001b[32m0\u001b[39m] = split_message[\u001b[32m0\u001b[39m][::-\u001b[32m1\u001b[39m]  \u001b[38;5;66;03m# Reverse \"gnirtS\" → \"String\"\u001b[39;00m\n\u001b[32m     28\u001b[39m \u001b[38;5;66;03m# Modify the second word ( → PLEU)\u001b[39;00m\n\u001b[32m---> \u001b[39m\u001b[32m29\u001b[39m secound_word = split_message[\u001b[43mPLIO1\u001b[49m]\n\u001b[32m     30\u001b[39m secound_word = secound_word.replace(\u001b[33m\"\u001b[39m\u001b[33mI\u001b[39m\u001b[33m\"\u001b[39m, \u001b[33m\"\u001b[39m\u001b[33mE\u001b[39m\u001b[33m\"\u001b[39m).replace(\u001b[33m\"\u001b[39m\u001b[33mO\u001b[39m\u001b[33m\"\u001b[39m, \u001b[33m\"\u001b[39m\u001b[33mU\u001b[39m\u001b[33m\"\u001b[39m)  \u001b[38;5;66;03m# PLIO → PLEU\u001b[39;00m\n\u001b[32m     32\u001b[39m \u001b[38;5;66;03m# Update the list with the modified second word\u001b[39;00m\n",
      "\u001b[31mNameError\u001b[39m: name 'PLIO1' is not defined"
     ]
    }
   ],
   "source": [
    "# Extract the core part of the message: \"gnirtS PLIO\".\n",
    "\n",
    "# Encoded Message\n",
    "message = \"&&&**$gnirtS PLIO!!@1234\"\n",
    "dolar_index = 0\n",
    "exclamation_mark_index = 0\n",
    "core_part = \"\"\n",
    "\n",
    "# Find \"$\" index\n",
    "for x in range(len(message)):\n",
    "    if message[x] == \"$\":\n",
    "        dolar_index = x\n",
    "        break  # Stop at the first \"$\"\n",
    "\n",
    "# Find first \"!\" index\n",
    "for j in range(len(message)):\n",
    "    if message[j] == \"!\":\n",
    "        exclamation_mark_index = j\n",
    "        break  # Stop at the first \"!\"\n",
    "\n",
    "# Extract core message\n",
    "core_part = message[dolar_index + 1 : exclamation_mark_index]\n",
    "\n",
    "# Reverse the first word\n",
    "split_message = core_part.split()  # Split into [\"gnirtS\", \"PLIO\"]\n",
    "split_message[0] = split_message[0][::-1]  # Reverse \"gnirtS\" → \"String\"\n",
    "\n",
    "# Modify the second word ( → PLEU)\n",
    "secound_word = split_message[PLIO1]\n",
    "secound_word = secound_word.replace(\"I\", \"E\").replace(\"O\", \"U\")  # PLIO → PLEU\n",
    "\n",
    "# Update the list with the modified second word\n",
    "split_message[1] = secound_word\n",
    "\n",
    "# Convert list back to a string\n",
    "core_part = \" \".join(split_message)\n",
    "\n",
    "print(core_part)  # ✅ Output: String PLEU\n"
   ]
  },
  {
   "cell_type": "code",
   "execution_count": 79,
   "metadata": {},
   "outputs": [
    {
     "name": "stdout",
     "output_type": "stream",
     "text": [
      "projectsplay APOVT\n"
     ]
    }
   ],
   "source": [
    "#Encoded Message: ##$$$@!yalpstcejorp EPUVT****9887\n",
    "Message=\"##$$$@!yalpstcejorp EPUVT****9887\"\n",
    "exclamation_mark_index=0\n",
    "Asterisk_index=0\n",
    "core_part=\"\"\n",
    "#1. Extract the core part of the message: \"yalpstcejorp EPUVT\".\n",
    "for a in range(len(Message)):\n",
    "    if Message[a]==\"!\":\n",
    "        exclamation_mark_index=a\n",
    "        break\n",
    "for j in range(len(Message)):\n",
    "    if Message[j]==\"*\":\n",
    "        Asterisk_index=j\n",
    "        break\n",
    "core_part=Message[exclamation_mark_index+1:Asterisk_index]    \n",
    "#Reverse the first word: \"yalpstcejorp\" becomes \"projectplay\".\n",
    "split_message=core_part.split()\n",
    "split_message[0]=split_message[0][::-1]\n",
    "#Replace shifted vowels in the second word: \"EPUVT\": Replace E->A, U->O to get \"APOVT\".\n",
    "secound_word=split_message[1]\n",
    "secound_word=secound_word.replace(\"E\",\"A\").replace(\"U\",\"O\")\n",
    "split_message[1]=secound_word\n",
    "core_part=\" \".join(split_message)\n",
    "print(core_part)"
   ]
  }
 ],
 "metadata": {
  "kernelspec": {
   "display_name": "Python 3",
   "language": "python",
   "name": "python3"
  },
  "language_info": {
   "codemirror_mode": {
    "name": "ipython",
    "version": 3
   },
   "file_extension": ".py",
   "mimetype": "text/x-python",
   "name": "python",
   "nbconvert_exporter": "python",
   "pygments_lexer": "ipython3",
   "version": "3.12.4"
  }
 },
 "nbformat": 4,
 "nbformat_minor": 2
}
